{
 "cells": [
  {
   "cell_type": "markdown",
   "id": "59cbcbcc",
   "metadata": {},
   "source": [
    "# scratch\n",
    "source:https://pytorch.org/tutorials/intermediate/reinforcement_q_learning.html\n",
    "\n",
    "\n",
    "**Packages**\n",
    "\n",
    "First, let’s import needed packages. Firstly, we need gym for the environment (Install using pip install gym). We’ll also use the following from PyTorch:\n",
    "\n",
    "- neural networks (`torch.nn`)\n",
    "- optimization (`torch.optim`)\n",
    "- automatic differentiation (`torch.autograd`)\n",
    "- utilities for vision tasks (`torchvision` - a separate package).\n"
   ]
  },
  {
   "cell_type": "code",
   "execution_count": 2,
   "id": "067fe746",
   "metadata": {},
   "outputs": [],
   "source": [
    "import gym\n",
    "import math\n",
    "import random\n",
    "import numpy as np\n",
    "import matplotlib\n",
    "import matplotlib.pyplot as plt\n",
    "from collections import namedtuple, deque\n",
    "from itertools import count\n",
    "from PIL import Image\n",
    "\n",
    "import torch\n",
    "import torch.nn as nn\n",
    "import torch.optim as optim\n",
    "import torch.nn.functional as F\n",
    "import torchvision.transforms as T\n"
   ]
  },
  {
   "cell_type": "markdown",
   "id": "ae126d65",
   "metadata": {},
   "source": []
  },
  {
   "cell_type": "code",
   "execution_count": 3,
   "id": "39494007",
   "metadata": {},
   "outputs": [],
   "source": [
    "env = gym.make('CartPole-v0').unwrapped\n",
    "\n",
    "# set up matplotlib\n",
    "is_ipython = 'inline' in matplotlib.get_backend()\n",
    "if is_ipython:\n",
    "    from IPython import display\n",
    "\n",
    "plt.ion()\n",
    "\n",
    "# if gpu is to be used\n",
    "device = torch.device(\"cuda\" if torch.cuda.is_available() else \"cpu\")"
   ]
  },
  {
   "cell_type": "markdown",
   "id": "d9ac6c6c",
   "metadata": {},
   "source": [
    "## Replay Memory\n",
    "We’ll be using experience replay memory for training our DQN. It stores the *transitions* that the agent observes, allowing us to reuse this data later. By sampling from it randomly, the transitions that build up a *batch* are decorrelated. It has been shown that this greatly stabilizes and improves the DQN training procedure.\n",
    "\n",
    "For this, we’re going to need two classses:\n",
    "\n",
    "**Transition** \n",
    "- a named tuple representing a single transition in our environment. It essentially maps (state, action) pairs to their (next_state, reward) result, with the state being the screen difference image as described later on.\n",
    "Transition能够map (state,action) -> (next_state,reward)\n",
    "\n",
    "\n",
    "**ReplayMemory** \n",
    "- a cyclic buffer of bounded size that holds the transitions observed recently. It also implements a .sample() method for selecting a random batch of transitions for training."
   ]
  },
  {
   "cell_type": "code",
   "execution_count": null,
   "id": "ceb91bfe",
   "metadata": {},
   "outputs": [],
   "source": [
    "Transition = namedtuple('Transition',\n",
    "                        ('state', 'action', 'next_state', 'reward'))\n",
    "\n",
    "\n",
    "class ReplayMemory(object):\n",
    "\n",
    "    def __init__(self, capacity):\n",
    "        self.memory = deque([],maxlen=capacity)\n",
    "\n",
    "    def push(self, *args):\n",
    "        \"\"\"Save a transition\"\"\"\n",
    "        self.memory.append(Transition(*args))\n",
    "\n",
    "    def sample(self, batch_size):\n",
    "        return random.sample(self.memory, batch_size)\n",
    "\n",
    "    def __len__(self):\n",
    "        return len(self.memory)"
   ]
  }
 ],
 "metadata": {
  "kernelspec": {
   "display_name": "Python 3 (ipykernel)",
   "language": "python",
   "name": "python3"
  },
  "language_info": {
   "codemirror_mode": {
    "name": "ipython",
    "version": 3
   },
   "file_extension": ".py",
   "mimetype": "text/x-python",
   "name": "python",
   "nbconvert_exporter": "python",
   "pygments_lexer": "ipython3",
   "version": "3.8.5"
  }
 },
 "nbformat": 4,
 "nbformat_minor": 5
}
